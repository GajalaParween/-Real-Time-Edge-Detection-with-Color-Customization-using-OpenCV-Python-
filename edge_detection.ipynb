{
 "cells": [
  {
   "cell_type": "code",
   "execution_count": null,
   "id": "0e1b2075-6781-4fa3-b98a-8a618ec1421d",
   "metadata": {},
   "outputs": [],
   "source": []
  }
 ],
 "metadata": {
  "kernelspec": {
   "display_name": "",
   "name": ""
  },
  "language_info": {
   "name": ""
  }
 },
 "nbformat": 4,
 "nbformat_minor": 5
}
